{
 "cells": [
  {
   "cell_type": "code",
   "execution_count": 68,
   "metadata": {},
   "outputs": [
    {
     "name": "stdout",
     "output_type": "stream",
     "text": [
      "Populating the interactive namespace from numpy and matplotlib\n"
     ]
    },
    {
     "name": "stderr",
     "output_type": "stream",
     "text": [
      "/jmain01/home/JAD003/sxr01/zxh52-sxr01/miniconda2/py2/lib/python2.7/site-packages/IPython/core/magics/pylab.py:161: UserWarning: pylab import has clobbered these variables: ['e']\n",
      "`%matplotlib` prevents importing * from pylab and numpy\n",
      "  \"\\n`%matplotlib` prevents importing * from pylab and numpy\"\n"
     ]
    }
   ],
   "source": [
    "%pylab inline\n",
    "from IPython.core.display import HTML\n",
    "from ipywidgets import interact, ToggleButtons\n",
    "import os\n",
    "import numpy as np\n",
    "from src.helper import load_from_file\n",
    "import matplotlib.pyplot as plt"
   ]
  },
  {
   "cell_type": "code",
   "execution_count": 69,
   "metadata": {},
   "outputs": [],
   "source": [
    "def wavPlayer(filepath):\n",
    "    \"\"\" will display html 5 player for compatible browser\n",
    "\n",
    "    Parameters :\n",
    "    ------------\n",
    "    filepath : relative filepath with respect to the notebook directory ( where the .ipynb are not cwd)\n",
    "               of the file to play\n",
    "\n",
    "    The browser need to know how to play wav through html5.\n",
    "\n",
    "    there is no autoplay to prevent file playing when the browser opens\n",
    "    \"\"\"\n",
    "    \n",
    "    src = \"\"\"\n",
    "    <head>\n",
    "    <meta http-equiv=\"Content-Type\" content=\"text/html; charset=utf-8\">\n",
    "    <title>Simple Test</title>\n",
    "    </head>\n",
    "    \n",
    "    <body>\n",
    "    <p>{0}</p>\n",
    "    <audio controls=\"controls\" style=\"width:600px\" >\n",
    "      <source src=\"files/{0}\" type=\"audio/wav\" />\n",
    "      Your browser does not support the audio element.\n",
    "    </audio>\n",
    "    </body>\n",
    "    \"\"\".format(filepath)\n",
    "    display(HTML(src))"
   ]
  },
  {
   "cell_type": "code",
   "execution_count": 70,
   "metadata": {},
   "outputs": [],
   "source": [
    "def play(file_id):\n",
    "    file_path = os.path.join('data', 'Blizzard2017', 'wav', file_id + '.wav')\n",
    "    wavPlayer(file_path)\n",
    "\n",
    "def load_from_gen_feats(experiment_name, feat_name):\n",
    "    feat_dir = os.path.join('results', 'generation', experiment_name, 'features', feat_name)\n",
    "    file_ids = map(lambda f: f.split('.')[0], os.listdir(feat_dir))\n",
    "    \n",
    "    return file_ids, np.array(map(lambda f: load_from_file(os.path.join(feat_dir, f), '.'+feat_name), file_ids))"
   ]
  },
  {
   "cell_type": "code",
   "execution_count": 71,
   "metadata": {
    "scrolled": true
   },
   "outputs": [
    {
     "data": {
      "text/plain": [
       "(7519, 4)"
      ]
     },
     "execution_count": 71,
     "metadata": {},
     "output_type": "execute_result"
    }
   ],
   "source": [
    "file_ids, cat_predictions = load_from_gen_feats('categorical_width-200', 'cat')\n",
    "cat_predictions.shape"
   ]
  },
  {
   "cell_type": "code",
   "execution_count": 72,
   "metadata": {},
   "outputs": [],
   "source": [
    "top_n = 10\n",
    "\n",
    "# ['ang', 'hap', 'neu', 'sad']\n",
    "top_ang = sorted(zip(file_ids, cat_predictions), key=lambda (f, c): -c[0])[:top_n]\n",
    "top_hap = sorted(zip(file_ids, cat_predictions), key=lambda (f, c): -c[1])[:top_n]\n",
    "top_neu = sorted(zip(file_ids, cat_predictions), key=lambda (f, c): -c[2])[:top_n]\n",
    "top_sad = sorted(zip(file_ids, cat_predictions), key=lambda (f, c): -c[3])[:top_n]"
   ]
  },
  {
   "cell_type": "code",
   "execution_count": 11,
   "metadata": {
    "scrolled": true
   },
   "outputs": [
    {
     "name": "stdout",
     "output_type": "stream",
     "text": [
      "Macbeth_012_002\n",
      "[ 0.01873716  0.02307924  0.0195741   0.93860948]\n"
     ]
    },
    {
     "data": {
      "text/html": [
       "\n",
       "    <head>\n",
       "    <meta http-equiv=\"Content-Type\" content=\"text/html; charset=utf-8\">\n",
       "    <title>Simple Test</title>\n",
       "    </head>\n",
       "    \n",
       "    <body>\n",
       "    <p>data/Blizzard2017/wav/Macbeth_012_002.wav</p>\n",
       "    <audio controls=\"controls\" style=\"width:600px\" >\n",
       "      <source src=\"files/data/Blizzard2017/wav/Macbeth_012_002.wav\" type=\"audio/wav\" />\n",
       "      Your browser does not support the audio element.\n",
       "    </audio>\n",
       "    </body>\n",
       "    "
      ],
      "text/plain": [
       "<IPython.core.display.HTML object>"
      ]
     },
     "metadata": {},
     "output_type": "display_data"
    },
    {
     "name": "stdout",
     "output_type": "stream",
     "text": [
      "\n",
      "AMidsummerNightsDream_015_001\n",
      "[ 0.00689576  0.03308258  0.02453109  0.93549061]\n"
     ]
    },
    {
     "data": {
      "text/html": [
       "\n",
       "    <head>\n",
       "    <meta http-equiv=\"Content-Type\" content=\"text/html; charset=utf-8\">\n",
       "    <title>Simple Test</title>\n",
       "    </head>\n",
       "    \n",
       "    <body>\n",
       "    <p>data/Blizzard2017/wav/AMidsummerNightsDream_015_001.wav</p>\n",
       "    <audio controls=\"controls\" style=\"width:600px\" >\n",
       "      <source src=\"files/data/Blizzard2017/wav/AMidsummerNightsDream_015_001.wav\" type=\"audio/wav\" />\n",
       "      Your browser does not support the audio element.\n",
       "    </audio>\n",
       "    </body>\n",
       "    "
      ],
      "text/plain": [
       "<IPython.core.display.HTML object>"
      ]
     },
     "metadata": {},
     "output_type": "display_data"
    },
    {
     "name": "stdout",
     "output_type": "stream",
     "text": [
      "\n",
      "TheFirebird_025_005\n",
      "[ 0.00611403  0.04197394  0.01726934  0.93464273]\n"
     ]
    },
    {
     "data": {
      "text/html": [
       "\n",
       "    <head>\n",
       "    <meta http-equiv=\"Content-Type\" content=\"text/html; charset=utf-8\">\n",
       "    <title>Simple Test</title>\n",
       "    </head>\n",
       "    \n",
       "    <body>\n",
       "    <p>data/Blizzard2017/wav/TheFirebird_025_005.wav</p>\n",
       "    <audio controls=\"controls\" style=\"width:600px\" >\n",
       "      <source src=\"files/data/Blizzard2017/wav/TheFirebird_025_005.wav\" type=\"audio/wav\" />\n",
       "      Your browser does not support the audio element.\n",
       "    </audio>\n",
       "    </body>\n",
       "    "
      ],
      "text/plain": [
       "<IPython.core.display.HTML object>"
      ]
     },
     "metadata": {},
     "output_type": "display_data"
    },
    {
     "name": "stdout",
     "output_type": "stream",
     "text": [
      "\n",
      "GoldilocksAndTheThreeBears_014_007\n",
      "[ 0.00686445  0.04302632  0.0164903   0.9336189 ]\n"
     ]
    },
    {
     "data": {
      "text/html": [
       "\n",
       "    <head>\n",
       "    <meta http-equiv=\"Content-Type\" content=\"text/html; charset=utf-8\">\n",
       "    <title>Simple Test</title>\n",
       "    </head>\n",
       "    \n",
       "    <body>\n",
       "    <p>data/Blizzard2017/wav/GoldilocksAndTheThreeBears_014_007.wav</p>\n",
       "    <audio controls=\"controls\" style=\"width:600px\" >\n",
       "      <source src=\"files/data/Blizzard2017/wav/GoldilocksAndTheThreeBears_014_007.wav\" type=\"audio/wav\" />\n",
       "      Your browser does not support the audio element.\n",
       "    </audio>\n",
       "    </body>\n",
       "    "
      ],
      "text/plain": [
       "<IPython.core.display.HTML object>"
      ]
     },
     "metadata": {},
     "output_type": "display_data"
    },
    {
     "name": "stdout",
     "output_type": "stream",
     "text": [
      "\n",
      "TheMousesWedding_001_000\n",
      "[ 0.00866686  0.03801662  0.02125179  0.93206477]\n"
     ]
    },
    {
     "data": {
      "text/html": [
       "\n",
       "    <head>\n",
       "    <meta http-equiv=\"Content-Type\" content=\"text/html; charset=utf-8\">\n",
       "    <title>Simple Test</title>\n",
       "    </head>\n",
       "    \n",
       "    <body>\n",
       "    <p>data/Blizzard2017/wav/TheMousesWedding_001_000.wav</p>\n",
       "    <audio controls=\"controls\" style=\"width:600px\" >\n",
       "      <source src=\"files/data/Blizzard2017/wav/TheMousesWedding_001_000.wav\" type=\"audio/wav\" />\n",
       "      Your browser does not support the audio element.\n",
       "    </audio>\n",
       "    </body>\n",
       "    "
      ],
      "text/plain": [
       "<IPython.core.display.HTML object>"
      ]
     },
     "metadata": {},
     "output_type": "display_data"
    },
    {
     "name": "stdout",
     "output_type": "stream",
     "text": [
      "\n",
      "SorcerersApprentice_004_005\n",
      "[ 0.01922804  0.0314394   0.01758972  0.93174279]\n"
     ]
    },
    {
     "data": {
      "text/html": [
       "\n",
       "    <head>\n",
       "    <meta http-equiv=\"Content-Type\" content=\"text/html; charset=utf-8\">\n",
       "    <title>Simple Test</title>\n",
       "    </head>\n",
       "    \n",
       "    <body>\n",
       "    <p>data/Blizzard2017/wav/SorcerersApprentice_004_005.wav</p>\n",
       "    <audio controls=\"controls\" style=\"width:600px\" >\n",
       "      <source src=\"files/data/Blizzard2017/wav/SorcerersApprentice_004_005.wav\" type=\"audio/wav\" />\n",
       "      Your browser does not support the audio element.\n",
       "    </audio>\n",
       "    </body>\n",
       "    "
      ],
      "text/plain": [
       "<IPython.core.display.HTML object>"
      ]
     },
     "metadata": {},
     "output_type": "display_data"
    },
    {
     "name": "stdout",
     "output_type": "stream",
     "text": [
      "\n",
      "Macbeth_004_006\n",
      "[ 0.01143424  0.03553213  0.0216638   0.93136984]\n"
     ]
    },
    {
     "data": {
      "text/html": [
       "\n",
       "    <head>\n",
       "    <meta http-equiv=\"Content-Type\" content=\"text/html; charset=utf-8\">\n",
       "    <title>Simple Test</title>\n",
       "    </head>\n",
       "    \n",
       "    <body>\n",
       "    <p>data/Blizzard2017/wav/Macbeth_004_006.wav</p>\n",
       "    <audio controls=\"controls\" style=\"width:600px\" >\n",
       "      <source src=\"files/data/Blizzard2017/wav/Macbeth_004_006.wav\" type=\"audio/wav\" />\n",
       "      Your browser does not support the audio element.\n",
       "    </audio>\n",
       "    </body>\n",
       "    "
      ],
      "text/plain": [
       "<IPython.core.display.HTML object>"
      ]
     },
     "metadata": {},
     "output_type": "display_data"
    },
    {
     "name": "stdout",
     "output_type": "stream",
     "text": [
      "\n",
      "TheFirebird_023_006\n",
      "[ 0.01459186  0.03428321  0.02097962  0.93014526]\n"
     ]
    },
    {
     "data": {
      "text/html": [
       "\n",
       "    <head>\n",
       "    <meta http-equiv=\"Content-Type\" content=\"text/html; charset=utf-8\">\n",
       "    <title>Simple Test</title>\n",
       "    </head>\n",
       "    \n",
       "    <body>\n",
       "    <p>data/Blizzard2017/wav/TheFirebird_023_006.wav</p>\n",
       "    <audio controls=\"controls\" style=\"width:600px\" >\n",
       "      <source src=\"files/data/Blizzard2017/wav/TheFirebird_023_006.wav\" type=\"audio/wav\" />\n",
       "      Your browser does not support the audio element.\n",
       "    </audio>\n",
       "    </body>\n",
       "    "
      ],
      "text/plain": [
       "<IPython.core.display.HTML object>"
      ]
     },
     "metadata": {},
     "output_type": "display_data"
    },
    {
     "name": "stdout",
     "output_type": "stream",
     "text": [
      "\n",
      "PrinceAndThePauper_031_012\n",
      "[ 0.01236291  0.03473987  0.02549996  0.92739731]\n"
     ]
    },
    {
     "data": {
      "text/html": [
       "\n",
       "    <head>\n",
       "    <meta http-equiv=\"Content-Type\" content=\"text/html; charset=utf-8\">\n",
       "    <title>Simple Test</title>\n",
       "    </head>\n",
       "    \n",
       "    <body>\n",
       "    <p>data/Blizzard2017/wav/PrinceAndThePauper_031_012.wav</p>\n",
       "    <audio controls=\"controls\" style=\"width:600px\" >\n",
       "      <source src=\"files/data/Blizzard2017/wav/PrinceAndThePauper_031_012.wav\" type=\"audio/wav\" />\n",
       "      Your browser does not support the audio element.\n",
       "    </audio>\n",
       "    </body>\n",
       "    "
      ],
      "text/plain": [
       "<IPython.core.display.HTML object>"
      ]
     },
     "metadata": {},
     "output_type": "display_data"
    },
    {
     "name": "stdout",
     "output_type": "stream",
     "text": [
      "\n",
      "KingDonkeyEars_002_002\n",
      "[ 0.01396779  0.02937487  0.02963112  0.92702615]\n"
     ]
    },
    {
     "data": {
      "text/html": [
       "\n",
       "    <head>\n",
       "    <meta http-equiv=\"Content-Type\" content=\"text/html; charset=utf-8\">\n",
       "    <title>Simple Test</title>\n",
       "    </head>\n",
       "    \n",
       "    <body>\n",
       "    <p>data/Blizzard2017/wav/KingDonkeyEars_002_002.wav</p>\n",
       "    <audio controls=\"controls\" style=\"width:600px\" >\n",
       "      <source src=\"files/data/Blizzard2017/wav/KingDonkeyEars_002_002.wav\" type=\"audio/wav\" />\n",
       "      Your browser does not support the audio element.\n",
       "    </audio>\n",
       "    </body>\n",
       "    "
      ],
      "text/plain": [
       "<IPython.core.display.HTML object>"
      ]
     },
     "metadata": {},
     "output_type": "display_data"
    },
    {
     "name": "stdout",
     "output_type": "stream",
     "text": [
      "\n"
     ]
    }
   ],
   "source": [
    "for file_id, val in top_sad:\n",
    "    print(file_id)\n",
    "    print(val)\n",
    "    play(file_id)\n",
    "    print"
   ]
  },
  {
   "cell_type": "code",
   "execution_count": 73,
   "metadata": {},
   "outputs": [
    {
     "data": {
      "text/plain": [
       "('PussInBoots_006_004',\n",
       " array([ 0.15920641,  0.3048633 ,  0.36626515,  0.16966511], dtype=float32))"
      ]
     },
     "execution_count": 73,
     "metadata": {},
     "output_type": "execute_result"
    }
   ],
   "source": [
    "file_ids[0], cat_predictions[0]"
   ]
  },
  {
   "cell_type": "code",
   "execution_count": 86,
   "metadata": {},
   "outputs": [
    {
     "data": {
      "image/png": "[encoded data removed]",
      "text/plain": [
       "<matplotlib.figure.Figure at 0x7f61d0f7d510>"
      ]
     },
     "metadata": {},
     "output_type": "display_data"
    }
   ],
   "source": [
    "emotion_set = ['Angry', 'Happy', 'Neutral', 'Sad']\n",
    "fig, axs = plt.subplots(1, len(emotion_set), figsize=(16, 3))\n",
    "for i, e in enumerate(emotion_set):\n",
    "    axs[i].hist(cat_predictions[:,i])\n",
    "    axs[i].set_title(e, fontsize=18)\n",
    "    axs[i].set_xlim(0., 1.)\n",
    "        \n",
    "plt.tight_layout()\n",
    "plt.savefig('results/graphs/blizzard-cat-flat.pdf')"
   ]
  },
  {
   "cell_type": "code",
   "execution_count": 91,
   "metadata": {},
   "outputs": [
    {
     "data": {
      "image/png": "[encoded data removed]",
      "text/plain": [
       "<matplotlib.figure.Figure at 0x7f61d1286fd0>"
      ]
     },
     "metadata": {},
     "output_type": "display_data"
    }
   ],
   "source": [
    "emotion_set = ['Angry', 'Happy', 'Neutral', 'Sad']\n",
    "width = height = len(emotion_set)/2\n",
    "fig, axs = plt.subplots(height, width, figsize=(6, 4))\n",
    "for i in range(height):\n",
    "    for j in range(width):\n",
    "        idx = i*width + j\n",
    "        axs[i, j].hist(cat_predictions[:,idx])\n",
    "        axs[i, j].set_title(emotion_set[idx], fontsize=18)\n",
    "        axs[i, j].set_xlim(0., 1.)\n",
    "        \n",
    "plt.tight_layout()\n",
    "plt.savefig('results/graphs/blizzard-cat.pdf')"
   ]
  },
  {
   "cell_type": "code",
   "execution_count": 50,
   "metadata": {
    "scrolled": false
   },
   "outputs": [
    {
     "data": {
      "image/png": "[encoded data removed]",
      "text/plain": [
       "<matplotlib.figure.Figure at 0x7f61d0ec7590>"
      ]
     },
     "metadata": {},
     "output_type": "display_data"
    }
   ],
   "source": [
    "plt.subplots(1, figsize=(6, 4))\n",
    "plt.hist(np.argmax(cat_predictions, axis=1), bins=[0,1,2,3,4])\n",
    "plt.xticks(np.arange(0.5, 3.51, 1.), emotion_set, fontsize=18);\n",
    "plt.tight_layout()\n",
    "plt.savefig('results/graphs/blizzard-preds.pdf')"
   ]
  },
  {
   "cell_type": "code",
   "execution_count": null,
   "metadata": {
    "collapsed": true
   },
   "outputs": [],
   "source": []
  },
  {
   "cell_type": "code",
   "execution_count": null,
   "metadata": {
    "collapsed": true
   },
   "outputs": [],
   "source": []
  },
  {
   "cell_type": "code",
   "execution_count": 34,
   "metadata": {
    "scrolled": true
   },
   "outputs": [
    {
     "data": {
      "text/plain": [
       "(7519, 3)"
      ]
     },
     "execution_count": 34,
     "metadata": {},
     "output_type": "execute_result"
    }
   ],
   "source": [
    "file_ids2, dim_predictions = load_from_gen_feats('categorical_width-200', 'dim')\n",
    "dim_predictions.shape"
   ]
  },
  {
   "cell_type": "code",
   "execution_count": 35,
   "metadata": {},
   "outputs": [],
   "source": [
    "top_n = 10\n",
    "\n",
    "# ['val', 'act', 'dom']\n",
    "top_val = sorted(zip(file_ids2, dim_predictions), key=lambda (f, c): -c[0])[:top_n]\n",
    "top_act = sorted(zip(file_ids2, dim_predictions), key=lambda (f, c): -c[1])[:top_n]\n",
    "top_dom = sorted(zip(file_ids2, dim_predictions), key=lambda (f, c): -c[2])[:top_n]"
   ]
  },
  {
   "cell_type": "code",
   "execution_count": 20,
   "metadata": {
    "scrolled": true
   },
   "outputs": [
    {
     "name": "stdout",
     "output_type": "stream",
     "text": [
      "RobinHood_youngreading_017_003\n",
      "[ 0.8443523   0.48246452  0.39955333]\n"
     ]
    },
    {
     "data": {
      "text/html": [
       "\n",
       "    <head>\n",
       "    <meta http-equiv=\"Content-Type\" content=\"text/html; charset=utf-8\">\n",
       "    <title>Simple Test</title>\n",
       "    </head>\n",
       "    \n",
       "    <body>\n",
       "    <p>data/Blizzard2017/wav/RobinHood_youngreading_017_003.wav</p>\n",
       "    <audio controls=\"controls\" style=\"width:600px\" >\n",
       "      <source src=\"files/data/Blizzard2017/wav/RobinHood_youngreading_017_003.wav\" type=\"audio/wav\" />\n",
       "      Your browser does not support the audio element.\n",
       "    </audio>\n",
       "    </body>\n",
       "    "
      ],
      "text/plain": [
       "<IPython.core.display.HTML object>"
      ]
     },
     "metadata": {},
     "output_type": "display_data"
    },
    {
     "name": "stdout",
     "output_type": "stream",
     "text": [
      "\n",
      "PhantomOfTheOpera_010_012\n",
      "[ 0.83556789  0.45381761  0.35947284]\n"
     ]
    },
    {
     "data": {
      "text/html": [
       "\n",
       "    <head>\n",
       "    <meta http-equiv=\"Content-Type\" content=\"text/html; charset=utf-8\">\n",
       "    <title>Simple Test</title>\n",
       "    </head>\n",
       "    \n",
       "    <body>\n",
       "    <p>data/Blizzard2017/wav/PhantomOfTheOpera_010_012.wav</p>\n",
       "    <audio controls=\"controls\" style=\"width:600px\" >\n",
       "      <source src=\"files/data/Blizzard2017/wav/PhantomOfTheOpera_010_012.wav\" type=\"audio/wav\" />\n",
       "      Your browser does not support the audio element.\n",
       "    </audio>\n",
       "    </body>\n",
       "    "
      ],
      "text/plain": [
       "<IPython.core.display.HTML object>"
      ]
     },
     "metadata": {},
     "output_type": "display_data"
    },
    {
     "name": "stdout",
     "output_type": "stream",
     "text": [
      "\n",
      "Dinosaurs_001_002\n",
      "[ 0.82890785  0.47005084  0.39374891]\n"
     ]
    },
    {
     "data": {
      "text/html": [
       "\n",
       "    <head>\n",
       "    <meta http-equiv=\"Content-Type\" content=\"text/html; charset=utf-8\">\n",
       "    <title>Simple Test</title>\n",
       "    </head>\n",
       "    \n",
       "    <body>\n",
       "    <p>data/Blizzard2017/wav/Dinosaurs_001_002.wav</p>\n",
       "    <audio controls=\"controls\" style=\"width:600px\" >\n",
       "      <source src=\"files/data/Blizzard2017/wav/Dinosaurs_001_002.wav\" type=\"audio/wav\" />\n",
       "      Your browser does not support the audio element.\n",
       "    </audio>\n",
       "    </body>\n",
       "    "
      ],
      "text/plain": [
       "<IPython.core.display.HTML object>"
      ]
     },
     "metadata": {},
     "output_type": "display_data"
    },
    {
     "name": "stdout",
     "output_type": "stream",
     "text": [
      "\n",
      "Dinosaurs_022_014\n",
      "[ 0.82643712  0.44524574  0.40691382]\n"
     ]
    },
    {
     "data": {
      "text/html": [
       "\n",
       "    <head>\n",
       "    <meta http-equiv=\"Content-Type\" content=\"text/html; charset=utf-8\">\n",
       "    <title>Simple Test</title>\n",
       "    </head>\n",
       "    \n",
       "    <body>\n",
       "    <p>data/Blizzard2017/wav/Dinosaurs_022_014.wav</p>\n",
       "    <audio controls=\"controls\" style=\"width:600px\" >\n",
       "      <source src=\"files/data/Blizzard2017/wav/Dinosaurs_022_014.wav\" type=\"audio/wav\" />\n",
       "      Your browser does not support the audio element.\n",
       "    </audio>\n",
       "    </body>\n",
       "    "
      ],
      "text/plain": [
       "<IPython.core.display.HTML object>"
      ]
     },
     "metadata": {},
     "output_type": "display_data"
    },
    {
     "name": "stdout",
     "output_type": "stream",
     "text": [
      "\n",
      "RomeoAndJuliet_010_000\n",
      "[ 0.82090706  0.4394742   0.34812927]\n"
     ]
    },
    {
     "data": {
      "text/html": [
       "\n",
       "    <head>\n",
       "    <meta http-equiv=\"Content-Type\" content=\"text/html; charset=utf-8\">\n",
       "    <title>Simple Test</title>\n",
       "    </head>\n",
       "    \n",
       "    <body>\n",
       "    <p>data/Blizzard2017/wav/RomeoAndJuliet_010_000.wav</p>\n",
       "    <audio controls=\"controls\" style=\"width:600px\" >\n",
       "      <source src=\"files/data/Blizzard2017/wav/RomeoAndJuliet_010_000.wav\" type=\"audio/wav\" />\n",
       "      Your browser does not support the audio element.\n",
       "    </audio>\n",
       "    </body>\n",
       "    "
      ],
      "text/plain": [
       "<IPython.core.display.HTML object>"
      ]
     },
     "metadata": {},
     "output_type": "display_data"
    },
    {
     "name": "stdout",
     "output_type": "stream",
     "text": [
      "\n",
      "RobinHood_youngreading_028_005\n",
      "[ 0.81890261  0.48817763  0.47121733]\n"
     ]
    },
    {
     "data": {
      "text/html": [
       "\n",
       "    <head>\n",
       "    <meta http-equiv=\"Content-Type\" content=\"text/html; charset=utf-8\">\n",
       "    <title>Simple Test</title>\n",
       "    </head>\n",
       "    \n",
       "    <body>\n",
       "    <p>data/Blizzard2017/wav/RobinHood_youngreading_028_005.wav</p>\n",
       "    <audio controls=\"controls\" style=\"width:600px\" >\n",
       "      <source src=\"files/data/Blizzard2017/wav/RobinHood_youngreading_028_005.wav\" type=\"audio/wav\" />\n",
       "      Your browser does not support the audio element.\n",
       "    </audio>\n",
       "    </body>\n",
       "    "
      ],
      "text/plain": [
       "<IPython.core.display.HTML object>"
      ]
     },
     "metadata": {},
     "output_type": "display_data"
    },
    {
     "name": "stdout",
     "output_type": "stream",
     "text": [
      "\n",
      "Dinosaurs_022_019\n",
      "[ 0.80844587  0.49154651  0.37640363]\n"
     ]
    },
    {
     "data": {
      "text/html": [
       "\n",
       "    <head>\n",
       "    <meta http-equiv=\"Content-Type\" content=\"text/html; charset=utf-8\">\n",
       "    <title>Simple Test</title>\n",
       "    </head>\n",
       "    \n",
       "    <body>\n",
       "    <p>data/Blizzard2017/wav/Dinosaurs_022_019.wav</p>\n",
       "    <audio controls=\"controls\" style=\"width:600px\" >\n",
       "      <source src=\"files/data/Blizzard2017/wav/Dinosaurs_022_019.wav\" type=\"audio/wav\" />\n",
       "      Your browser does not support the audio element.\n",
       "    </audio>\n",
       "    </body>\n",
       "    "
      ],
      "text/plain": [
       "<IPython.core.display.HTML object>"
      ]
     },
     "metadata": {},
     "output_type": "display_data"
    },
    {
     "name": "stdout",
     "output_type": "stream",
     "text": [
      "\n",
      "Dinosaurs_003_004\n",
      "[ 0.80098951  0.48028433  0.41541937]\n"
     ]
    },
    {
     "data": {
      "text/html": [
       "\n",
       "    <head>\n",
       "    <meta http-equiv=\"Content-Type\" content=\"text/html; charset=utf-8\">\n",
       "    <title>Simple Test</title>\n",
       "    </head>\n",
       "    \n",
       "    <body>\n",
       "    <p>data/Blizzard2017/wav/Dinosaurs_003_004.wav</p>\n",
       "    <audio controls=\"controls\" style=\"width:600px\" >\n",
       "      <source src=\"files/data/Blizzard2017/wav/Dinosaurs_003_004.wav\" type=\"audio/wav\" />\n",
       "      Your browser does not support the audio element.\n",
       "    </audio>\n",
       "    </body>\n",
       "    "
      ],
      "text/plain": [
       "<IPython.core.display.HTML object>"
      ]
     },
     "metadata": {},
     "output_type": "display_data"
    },
    {
     "name": "stdout",
     "output_type": "stream",
     "text": [
      "\n",
      "Dinosaurs_014_001\n",
      "[ 0.8000502   0.45902288  0.34981096]\n"
     ]
    },
    {
     "data": {
      "text/html": [
       "\n",
       "    <head>\n",
       "    <meta http-equiv=\"Content-Type\" content=\"text/html; charset=utf-8\">\n",
       "    <title>Simple Test</title>\n",
       "    </head>\n",
       "    \n",
       "    <body>\n",
       "    <p>data/Blizzard2017/wav/Dinosaurs_014_001.wav</p>\n",
       "    <audio controls=\"controls\" style=\"width:600px\" >\n",
       "      <source src=\"files/data/Blizzard2017/wav/Dinosaurs_014_001.wav\" type=\"audio/wav\" />\n",
       "      Your browser does not support the audio element.\n",
       "    </audio>\n",
       "    </body>\n",
       "    "
      ],
      "text/plain": [
       "<IPython.core.display.HTML object>"
      ]
     },
     "metadata": {},
     "output_type": "display_data"
    },
    {
     "name": "stdout",
     "output_type": "stream",
     "text": [
      "\n",
      "Dinosaurs_002_001\n",
      "[ 0.7920633   0.4071995   0.35072806]\n"
     ]
    },
    {
     "data": {
      "text/html": [
       "\n",
       "    <head>\n",
       "    <meta http-equiv=\"Content-Type\" content=\"text/html; charset=utf-8\">\n",
       "    <title>Simple Test</title>\n",
       "    </head>\n",
       "    \n",
       "    <body>\n",
       "    <p>data/Blizzard2017/wav/Dinosaurs_002_001.wav</p>\n",
       "    <audio controls=\"controls\" style=\"width:600px\" >\n",
       "      <source src=\"files/data/Blizzard2017/wav/Dinosaurs_002_001.wav\" type=\"audio/wav\" />\n",
       "      Your browser does not support the audio element.\n",
       "    </audio>\n",
       "    </body>\n",
       "    "
      ],
      "text/plain": [
       "<IPython.core.display.HTML object>"
      ]
     },
     "metadata": {},
     "output_type": "display_data"
    },
    {
     "name": "stdout",
     "output_type": "stream",
     "text": [
      "\n"
     ]
    }
   ],
   "source": [
    "for file_id, val in top_val:\n",
    "    print(file_id)\n",
    "    print(val)\n",
    "    play(file_id)\n",
    "    print"
   ]
  },
  {
   "cell_type": "code",
   "execution_count": 36,
   "metadata": {},
   "outputs": [
    {
     "data": {
      "text/plain": [
       "('RainyDay_000_020',\n",
       " array([ 0.38067791,  0.41097757,  0.49501446], dtype=float32))"
      ]
     },
     "execution_count": 36,
     "metadata": {},
     "output_type": "execute_result"
    }
   ],
   "source": [
    "file_ids2[0], dim_predictions[0]"
   ]
  },
  {
   "cell_type": "code",
   "execution_count": 67,
   "metadata": {},
   "outputs": [
    {
     "data": {
      "image/png": "[encoded data removed]",
      "text/plain": [
       "<matplotlib.figure.Figure at 0x7f61d1cead50>"
      ]
     },
     "metadata": {},
     "output_type": "display_data"
    }
   ],
   "source": [
    "emotion_set2 = ['Valence', 'Activation', 'Dominance']\n",
    "fig, axs = plt.subplots(1, len(emotion_set2), figsize=(10, 3), sharey=True)\n",
    "for i, e in enumerate(emotion_set2):\n",
    "    axs[i].hist(dim_predictions[:,i])\n",
    "    axs[i].set_title(e, fontsize=18)\n",
    "    axs[i].set_xlim(0., 1.)\n",
    "\n",
    "plt.tight_layout()\n",
    "plt.savefig('results/graphs/blizzard-dim.pdf')"
   ]
  },
  {
   "cell_type": "code",
   "execution_count": null,
   "metadata": {
    "collapsed": true
   },
   "outputs": [],
   "source": []
  },
  {
   "cell_type": "code",
   "execution_count": null,
   "metadata": {},
   "outputs": [],
   "source": []
  },
  {
   "cell_type": "code",
   "execution_count": 2,
   "metadata": {},
   "outputs": [],
   "source": [
    "import os\n",
    "import numpy as np\n",
    "import pandas as pd\n",
    "\n",
    "os.environ['project_DIR'] = os.path.join(os.environ['HOME'], 'IS18_control_space')\n",
    "os.environ['SOURCE_DIR'] = os.path.join(os.environ['HOME'], 'data')\n",
    "os.environ['DATA_DIR'] = os.path.join(os.environ['project_DIR'], 'data')\n",
    "\n",
    "from src.load import IEMOCAPData, categories, CATEGORIES"
   ]
  },
  {
   "cell_type": "code",
   "execution_count": 3,
   "metadata": {},
   "outputs": [],
   "source": [
    "dp = IEMOCAPData(data_config=dict(\n",
    "    emotion_set=['ang', 'hap', 'neu', 'sad'],\n",
    "    emotion_mask=np.in1d(categories, ['ang', 'hap', 'neu', 'sad']),\n",
    "    load_wavefile=False, gen_spectrogram=False,\n",
    "    load_func_features=False,\n",
    "    load_lld_features=False,\n",
    "    load_phone_alignment=False,\n",
    "    load_transcription=False,\n",
    "    load_emo_labels=True\n",
    "))"
   ]
  },
  {
   "cell_type": "code",
   "execution_count": 4,
   "metadata": {
    "scrolled": false
   },
   "outputs": [],
   "source": [
    "utt_names = []\n",
    "annotator_classes = []\n",
    "for batch in dp.all_data():\n",
    "    utt_names.extend(batch.utt_name)\n",
    "    annotator_classes.extend(batch.target_cat_anno)"
   ]
  },
  {
   "cell_type": "code",
   "execution_count": 5,
   "metadata": {},
   "outputs": [
    {
     "data": {
      "text/plain": [
       "4476"
      ]
     },
     "execution_count": 5,
     "metadata": {},
     "output_type": "execute_result"
    }
   ],
   "source": [
    "len(utt_names)"
   ]
  },
  {
   "cell_type": "code",
   "execution_count": 6,
   "metadata": {},
   "outputs": [
    {
     "data": {
      "text/plain": [
       "4476"
      ]
     },
     "execution_count": 6,
     "metadata": {},
     "output_type": "execute_result"
    }
   ],
   "source": [
    "len(annotator_classes)"
   ]
  },
  {
   "cell_type": "code",
   "execution_count": 7,
   "metadata": {},
   "outputs": [],
   "source": [
    "for i in range(len(utt_names)):\n",
    "    annotator_classes[i]['utt_name'] = utt_names[i]"
   ]
  },
  {
   "cell_type": "code",
   "execution_count": 29,
   "metadata": {},
   "outputs": [],
   "source": [
    "# annotator_names = list(set().union(*map(dict.keys, annotator_classes)))\n",
    "annotator_names = ['F1', 'F2', 'F3', 'M5', 'M1', 'M3', 'E5', 'E4', 'E6', 'E1', 'E3', 'E2']"
   ]
  },
  {
   "cell_type": "code",
   "execution_count": 9,
   "metadata": {
    "scrolled": true
   },
   "outputs": [],
   "source": [
    "df = pd.DataFrame(annotator_classes)\n",
    "df = df.set_index('utt_name')"
   ]
  },
  {
   "cell_type": "code",
   "execution_count": 44,
   "metadata": {},
   "outputs": [],
   "source": [
    "def without_annotator(df, name, columns=annotator_names):\n",
    "    columns = [col for col in columns if col != name]\n",
    "    return df[df[name].notna()][columns]\n",
    "\n",
    "def only_annotator(df, name):\n",
    "    return df[df[name].notna()][[name]]\n",
    "\n",
    "def argmax_row(row):\n",
    "    vec = np.zeros(len(CATEGORIES))\n",
    "    for item in row:\n",
    "        if item is not np.nan:\n",
    "            labs = np.in1d(CATEGORIES, item)\n",
    "            vec += labs / (sum(labs) + 1e-12)\n",
    "    return CATEGORIES[np.argmax(vec)]\n",
    "\n",
    "def correct_row(name):\n",
    "    return lambda row: len(row[name]) == 1 and row['consensus'] == row[name][0]\n",
    "\n",
    "def accuracy(df, name):\n",
    "    without = without_annotator(df, name)\n",
    "    preds = without.apply(argmax_row, axis=1)\n",
    "    \n",
    "    anno = only_annotator(df, name)\n",
    "    anno['consensus'] = preds.values\n",
    "    correct = anno.apply(correct_row(name), axis=1)\n",
    "    \n",
    "    return correct.sum() / float(correct.shape[0])"
   ]
  },
  {
   "cell_type": "code",
   "execution_count": 49,
   "metadata": {},
   "outputs": [
    {
     "name": "stdout",
     "output_type": "stream",
     "text": [
      "F1 45.2%\n",
      "F2 49.2%\n",
      "F3 37.8%\n",
      "M5 44.8%\n",
      "M1 70.1%\n",
      "M3 50.9%\n",
      "E5 34.2%\n",
      "E4 42.6%\n",
      "E6 40.0%\n",
      "E1 46.6%\n",
      "E3 54.2%\n",
      "E2 58.1%\n"
     ]
    }
   ],
   "source": [
    "for annotator in annotator_names:\n",
    "    try:\n",
    "        print('{} {:.1f}%'.format(annotator, accuracy(df, annotator)*100.))\n",
    "    except:\n",
    "        print('{} error'.format(annotator))"
   ]
  },
  {
   "cell_type": "code",
   "execution_count": 50,
   "metadata": {},
   "outputs": [
    {
     "data": {
      "text/plain": [
       "47.808333333333337"
      ]
     },
     "execution_count": 50,
     "metadata": {},
     "output_type": "execute_result"
    }
   ],
   "source": [
    "np.mean([45.2, 49.2, 37.8, 44.8, 70.1, 50.9, 34.2, 42.6, 40.0, 46.6, 54.2, 58.1])"
   ]
  },
  {
   "cell_type": "code",
   "execution_count": 51,
   "metadata": {},
   "outputs": [
    {
     "data": {
      "text/plain": [
       "10"
      ]
     },
     "execution_count": 51,
     "metadata": {},
     "output_type": "execute_result"
    }
   ],
   "source": [
    "len(CATEGORIES)"
   ]
  },
  {
   "cell_type": "code",
   "execution_count": null,
   "metadata": {},
   "outputs": [],
   "source": []
  },
  {
   "cell_type": "code",
   "execution_count": null,
   "metadata": {},
   "outputs": [],
   "source": []
  }
 ],
 "metadata": {
  "kernelspec": {
   "display_name": "Python 2",
   "language": "python",
   "name": "python2"
  },
  "language_info": {
   "codemirror_mode": {
    "name": "ipython",
    "version": 2
   },
   "file_extension": ".py",
   "mimetype": "text/x-python",
   "name": "python",
   "nbconvert_exporter": "python",
   "pygments_lexer": "ipython2",
   "version": "2.7.14"
  }
 },
 "nbformat": 4,
 "nbformat_minor": 2
}
